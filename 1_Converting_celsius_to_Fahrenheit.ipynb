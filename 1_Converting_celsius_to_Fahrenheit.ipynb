{
 "cells": [
  {
   "cell_type": "code",
   "execution_count": 1,
   "id": "27a78729",
   "metadata": {},
   "outputs": [],
   "source": [
    "import tensorflow as tf"
   ]
  },
  {
   "cell_type": "code",
   "execution_count": 2,
   "id": "426da20d",
   "metadata": {},
   "outputs": [],
   "source": [
    "import numpy as np"
   ]
  },
  {
   "cell_type": "code",
   "execution_count": 3,
   "id": "bf963e7b",
   "metadata": {},
   "outputs": [],
   "source": [
    "celsius_q = np.array([-40,-10,0,8,15,22,38],dtype=float)\n",
    "fahernheit_q = np.array([-40,14,32,46,59,72,100],dtype=float)"
   ]
  },
  {
   "cell_type": "code",
   "execution_count": 4,
   "id": "5c6e1f04",
   "metadata": {},
   "outputs": [
    {
     "name": "stdout",
     "output_type": "stream",
     "text": [
      "-40.0 degree celsius = -40.0 degree fahrenheit\n",
      "-10.0 degree celsius = 14.0 degree fahrenheit\n",
      "0.0 degree celsius = 32.0 degree fahrenheit\n",
      "8.0 degree celsius = 46.0 degree fahrenheit\n",
      "15.0 degree celsius = 59.0 degree fahrenheit\n",
      "22.0 degree celsius = 72.0 degree fahrenheit\n",
      "38.0 degree celsius = 100.0 degree fahrenheit\n"
     ]
    }
   ],
   "source": [
    "for i,c in enumerate(celsius_q):\n",
    "    print(\"{} degree celsius = {} degree fahrenheit\".format(c,fahernheit_q[i]))"
   ]
  },
  {
   "cell_type": "code",
   "execution_count": 5,
   "id": "d2165cb8",
   "metadata": {},
   "outputs": [],
   "source": [
    "model = tf.keras.Sequential([\n",
    "    tf.keras.layers.Dense(units=1,input_shape=[1])\n",
    "])"
   ]
  },
  {
   "cell_type": "code",
   "execution_count": 7,
   "id": "c049a2be",
   "metadata": {},
   "outputs": [
    {
     "name": "stdout",
     "output_type": "stream",
     "text": [
      "Model: \"sequential\"\n",
      "_________________________________________________________________\n",
      "Layer (type)                 Output Shape              Param #   \n",
      "=================================================================\n",
      "dense (Dense)                (None, 1)                 2         \n",
      "=================================================================\n",
      "Total params: 2\n",
      "Trainable params: 2\n",
      "Non-trainable params: 0\n",
      "_________________________________________________________________\n"
     ]
    }
   ],
   "source": [
    "model.summary()"
   ]
  },
  {
   "cell_type": "code",
   "execution_count": 8,
   "id": "0c12c47f",
   "metadata": {},
   "outputs": [],
   "source": [
    "model.compile(loss='mean_squared_error',optimizer=tf.keras.optimizers.Adam(0.1))"
   ]
  },
  {
   "cell_type": "code",
   "execution_count": 13,
   "id": "417e1832",
   "metadata": {},
   "outputs": [],
   "source": [
    "history = model.fit(celsius_q,fahernheit_q,epochs=500,verbose=False)"
   ]
  },
  {
   "cell_type": "code",
   "execution_count": 14,
   "id": "d1effd62",
   "metadata": {},
   "outputs": [
    {
     "data": {
      "image/png": "[encoded data removed]",
      "text/plain": [
       "<Figure size 432x288 with 1 Axes>"
      ]
     },
     "metadata": {
      "needs_background": "light"
     },
     "output_type": "display_data"
    }
   ],
   "source": [
    "import matplotlib.pyplot as plt\n",
    "plt.xlabel(\"Epochs\")\n",
    "plt.ylabel(\"Losss\")\n",
    "plt.plot(history.history['loss'])\n",
    "plt.show()"
   ]
  },
  {
   "cell_type": "code",
   "execution_count": 15,
   "id": "394f314b",
   "metadata": {},
   "outputs": [
    {
     "name": "stdout",
     "output_type": "stream",
     "text": [
      "[[211.45831]]\n"
     ]
    }
   ],
   "source": [
    "print(model.predict([100.0]))"
   ]
  },
  {
   "cell_type": "code",
   "execution_count": 16,
   "id": "aa962f66",
   "metadata": {},
   "outputs": [
    {
     "name": "stdout",
     "output_type": "stream",
     "text": [
      "These are the layers variables: [array([[1.8142815]], dtype=float32), array([30.030172], dtype=float32)]\n"
     ]
    }
   ],
   "source": [
    "print(\"These are the layers variables: {}\".format(model.layers[0].get_weights()))"
   ]
  },
  {
   "cell_type": "code",
   "execution_count": null,
   "id": "75a96982",
   "metadata": {},
   "outputs": [],
   "source": []
  }
 ],
 "metadata": {
  "kernelspec": {
   "display_name": "Python 3",
   "language": "python",
   "name": "python3"
  },
  "language_info": {
   "codemirror_mode": {
    "name": "ipython",
    "version": 3
   },
   "file_extension": ".py",
   "mimetype": "text/x-python",
   "name": "python",
   "nbconvert_exporter": "python",
   "pygments_lexer": "ipython3",
   "version": "3.6.13"
  }
 },
 "nbformat": 4,
 "nbformat_minor": 5
}
